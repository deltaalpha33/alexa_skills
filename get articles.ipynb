{
 "cells": [
  {
   "cell_type": "code",
   "execution_count": 11,
   "metadata": {
    "collapsed": false
   },
   "outputs": [],
   "source": [
    "import feedparser\n",
    "import justext\n",
    "import pickle\n",
    "import requests\n",
    "import sys\n",
    "\n",
    "def get_text(link):\n",
    "    response = requests.get(link)\n",
    "    paragraphs = justext.justext(response.content, justext.get_stoplist(\"English\"))\n",
    "    text = \"\\n\\n\".join([p.text for p in paragraphs if not p.is_boilerplate])\n",
    "    return text\n",
    "\n",
    "def collect(url, filename):\n",
    "    # read RSS feed\n",
    "    d = feedparser.parse(url)\n",
    "    \n",
    "    # grab each article\n",
    "    texts = {}\n",
    "    for entry in d[\"entries\"]:\n",
    "        link = entry[\"link\"]\n",
    "        print(\"downloading: \" + link)\n",
    "        text = get_text(link)\n",
    "        texts[link] = text\n",
    "    \n",
    "    # pickle\n",
    "    pickle.dump(texts, open(filename, \"wb\"))\n"
   ]
  },
  {
   "cell_type": "code",
   "execution_count": 17,
   "metadata": {
    "collapsed": false
   },
   "outputs": [
    {
     "name": "stdout",
     "output_type": "stream",
     "text": [
      "downloading: http://feeds.reuters.com/~r/Reuters/domesticNews/~3/kf7X2Q4ePv4/us-usa-trump-boyscouts-idUSKBN1AC2WX\n",
      "downloading: http://feeds.reuters.com/~r/Reuters/domesticNews/~3/AYCkSYb7OIk/us-usa-military-transgender-exclusive-idUSKBN1AC2FN\n",
      "downloading: http://feeds.reuters.com/~r/Reuters/domesticNews/~3/ga4VmT5BaUM/us-usa-trump-scaramucci-idUSKBN1AC2XU\n",
      "downloading: http://feeds.reuters.com/~r/Reuters/domesticNews/~3/BHTij1AKt-o/us-usa-court-lgbt-idUSKBN1AC2DZ\n",
      "downloading: http://feeds.reuters.com/~r/Reuters/domesticNews/~3/26aqNNgmy8U/us-new-york-subway-idUSKBN1AC2OI\n",
      "downloading: http://feeds.reuters.com/~r/Reuters/domesticNews/~3/FTkMLq0VjA8/us-california-prosecutor-idUSKBN1AC2BH\n",
      "downloading: http://feeds.reuters.com/~r/Reuters/domesticNews/~3/1rf12-zrrAg/us-new-york-crime-idUSKBN1AC2Z5\n",
      "downloading: http://feeds.reuters.com/~r/Reuters/domesticNews/~3/_KMQd2vaWR8/us-volkswagen-emissions-regulator-idUSKBN1AC2F3\n",
      "downloading: http://feeds.reuters.com/~r/Reuters/domesticNews/~3/hWivnF02qd4/us-usa-insidertrading-walters-idUSKBN1AC2OM\n",
      "downloading: http://feeds.reuters.com/~r/Reuters/domesticNews/~3/3neBX4SHjvI/us-ohio-ride-idUSKBN1AC04T\n"
     ]
    }
   ],
   "source": [
    "\n",
    "    # https://www.reuters.com/tools/rss\n",
    "    # http://feeds.reuters.com/Reuters/domesticNews\n",
    "url = 'http://feeds.reuters.com/Reuters/domesticNews'\n",
    "filename = 'data.txt'\n",
    "collect(url, filename)"
   ]
  },
  {
   "cell_type": "code",
   "execution_count": null,
   "metadata": {
    "collapsed": true
   },
   "outputs": [],
   "source": []
  }
 ],
 "metadata": {
  "kernelspec": {
   "display_name": "Python 3",
   "language": "python",
   "name": "python3"
  },
  "language_info": {
   "codemirror_mode": {
    "name": "ipython",
    "version": 3
   },
   "file_extension": ".py",
   "mimetype": "text/x-python",
   "name": "python",
   "nbconvert_exporter": "python",
   "pygments_lexer": "ipython3",
   "version": "3.6.0"
  }
 },
 "nbformat": 4,
 "nbformat_minor": 2
}
