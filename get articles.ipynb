{
 "cells": [
  {
   "cell_type": "code",
   "execution_count": 1,
   "metadata": {},
   "outputs": [
    {
     "ename": "ModuleNotFoundError",
     "evalue": "No module named 'feedparser'",
     "output_type": "error",
     "traceback": [
      "\u001b[0;31m---------------------------------------------------------------------------\u001b[0m",
      "\u001b[0;31mModuleNotFoundError\u001b[0m                       Traceback (most recent call last)",
      "\u001b[0;32m<ipython-input-1-bf09e4b4bbfb>\u001b[0m in \u001b[0;36m<module>\u001b[0;34m()\u001b[0m\n\u001b[0;32m----> 1\u001b[0;31m \u001b[0;32mimport\u001b[0m \u001b[0mfeedparser\u001b[0m\u001b[0;34m\u001b[0m\u001b[0m\n\u001b[0m\u001b[1;32m      2\u001b[0m \u001b[0;32mimport\u001b[0m \u001b[0mjustext\u001b[0m\u001b[0;34m\u001b[0m\u001b[0m\n\u001b[1;32m      3\u001b[0m \u001b[0;32mimport\u001b[0m \u001b[0mpickle\u001b[0m\u001b[0;34m\u001b[0m\u001b[0m\n\u001b[1;32m      4\u001b[0m \u001b[0;32mimport\u001b[0m \u001b[0mrequests\u001b[0m\u001b[0;34m\u001b[0m\u001b[0m\n\u001b[1;32m      5\u001b[0m \u001b[0;32mimport\u001b[0m \u001b[0msys\u001b[0m\u001b[0;34m\u001b[0m\u001b[0m\n",
      "\u001b[0;31mModuleNotFoundError\u001b[0m: No module named 'feedparser'"
     ]
    }
   ],
   "source": [
    "import feedparser\n",
    "import justext\n",
    "import pickle\n",
    "import requests\n",
    "import sys\n",
    "\n",
    "def get_text(link):\n",
    "    response = requests.get(link)\n",
    "    paragraphs = justext.justext(response.content, justext.get_stoplist(\"English\"))\n",
    "    text = \"\\n\\n\".join([p.text for p in paragraphs if not p.is_boilerplate])\n",
    "    return text\n",
    "\n",
    "def collect(url, filename):\n",
    "    # read RSS feed\n",
    "    d = feedparser.parse(url)\n",
    "    \n",
    "    # grab each article\n",
    "    texts = {}\n",
    "    for entry in d[\"entries\"]:\n",
    "        link = entry[\"link\"]\n",
    "        print(\"downloading: \" + link)\n",
    "        text = get_text(link)\n",
    "        texts[link] = text\n",
    "    \n",
    "    # pickle\n",
    "    pickle.dump(texts, open(filename, \"wb\"))\n"
   ]
  },
  {
   "cell_type": "code",
   "execution_count": null,
   "metadata": {},
   "outputs": [],
   "source": [
    "\n",
    "    # https://www.reuters.com/tools/rss\n",
    "    # http://feeds.reuters.com/Reuters/domesticNews\n",
    "url = 'http://feeds.reuters.com/Reuters/domesticNews'\n",
    "filename = 'data.txt'\n",
    "collect(url, filename)"
   ]
  },
  {
   "cell_type": "code",
   "execution_count": null,
   "metadata": {
    "collapsed": true
   },
   "outputs": [],
   "source": []
  }
 ],
 "metadata": {
  "kernelspec": {
   "display_name": "Python 3",
   "language": "python",
   "name": "python3"
  }
 },
 "nbformat": 4,
 "nbformat_minor": 2
}
