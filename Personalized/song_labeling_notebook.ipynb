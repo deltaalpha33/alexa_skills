{
 "cells": [
  {
   "cell_type": "markdown",
   "metadata": {},
   "source": [
    "## Requirements"
   ]
  },
  {
   "cell_type": "code",
   "execution_count": 1,
   "metadata": {
    "collapsed": false
   },
   "outputs": [],
   "source": [
    "from song_label import song_labeling as sl\n",
    "import numpy as np\n",
    "from audio_input import audio"
   ]
  },
  {
   "cell_type": "code",
   "execution_count": 2,
   "metadata": {
    "collapsed": false
   },
   "outputs": [],
   "source": [
    "fp = sl.FingerPrinter()\n",
    "a = audio.Audio()"
   ]
  },
  {
   "cell_type": "markdown",
   "metadata": {},
   "source": [
    "#### To load (add) songs from a folder into the database\n",
    "fp.loadDBsongs(\"music\",a)"
   ]
  },
  {
   "cell_type": "markdown",
   "metadata": {},
   "source": [
    "#### To save the current database to pickle files\n",
    "fp.saveDB(\"songsDB.p\",\"namesDB.p\")"
   ]
  },
  {
   "cell_type": "markdown",
   "metadata": {
    "collapsed": false
   },
   "source": [
    "#### To load the saved pickle files in to the database\n",
    "fp.loadDB(\"songsDB.p\",\"namesDB.p\")"
   ]
  },
  {
   "cell_type": "code",
   "execution_count": 4,
   "metadata": {
    "collapsed": false
   },
   "outputs": [],
   "source": [
    "fp.loadDB(\"songsDB.p\",\"namesDB.p\")"
   ]
  },
  {
   "cell_type": "code",
   "execution_count": 6,
   "metadata": {
    "collapsed": false
   },
   "outputs": [
    {
     "data": {
      "text/plain": [
       "['Nightcore - Diary of Jane - YouTube.mp3',\n",
       " 'David Bowie - Space Oddity.mp3',\n",
       " 'Gustavo Dudamel - Danzon No. 2.mp3',\n",
       " 'The Beatles - Blackbird.mp3',\n",
       " 'Nightcore - I Burn  RWBY .mp3',\n",
       " 'Iron Horse - One.mp3',\n",
       " 'P. Dukas - The Sorcerers Apprentice.mp3',\n",
       " 'Phish - Heavy Things.mp3',\n",
       " 'Phish - Sample In A Jar.mp3',\n",
       " 'Iron Horse - Hero Of The Day.mp3',\n",
       " 'Nightcore - New Divide - YouTube.mp3',\n",
       " 'Nightcore - Courtesy Call - YouTube.mp3']"
      ]
     },
     "execution_count": 6,
     "metadata": {},
     "output_type": "execute_result"
    }
   ],
   "source": [
    "fp.names"
   ]
  },
  {
   "cell_type": "markdown",
   "metadata": {
    "collapsed": true
   },
   "source": [
    "## To record and recognize a song"
   ]
  },
  {
   "cell_type": "code",
   "execution_count": 7,
   "metadata": {
    "collapsed": true
   },
   "outputs": [],
   "source": [
    "samples = a.read_mic(7)"
   ]
  },
  {
   "cell_type": "code",
   "execution_count": 8,
   "metadata": {
    "collapsed": false
   },
   "outputs": [
    {
     "data": {
      "text/plain": [
       "'Phish - Heavy Things.mp3'"
      ]
     },
     "execution_count": 8,
     "metadata": {},
     "output_type": "execute_result"
    }
   ],
   "source": [
    "fp.best(fp.match_song(fp.get_finger_print( fp.get_peaks(samples) )))"
   ]
  },
  {
   "cell_type": "code",
   "execution_count": null,
   "metadata": {
    "collapsed": true
   },
   "outputs": [],
   "source": []
  }
 ],
 "metadata": {
  "kernelspec": {
   "display_name": "Python 3",
   "language": "python",
   "name": "python3"
  },
  "language_info": {
   "codemirror_mode": {
    "name": "ipython",
    "version": 3
   },
   "file_extension": ".py",
   "mimetype": "text/x-python",
   "name": "python",
   "nbconvert_exporter": "python",
   "pygments_lexer": "ipython3",
   "version": "3.6.0"
  }
 },
 "nbformat": 4,
 "nbformat_minor": 2
}
