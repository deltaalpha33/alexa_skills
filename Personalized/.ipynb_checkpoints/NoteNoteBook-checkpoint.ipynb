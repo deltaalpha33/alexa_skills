{
 "cells": [
  {
   "cell_type": "code",
   "execution_count": 3,
   "metadata": {
    "collapsed": true
   },
   "outputs": [],
   "source": [
    "from audio_input import audio\n",
    "import numpy as np\n",
    "import os\n",
    "\n",
    "class note:\n",
    "    def __init__(self,path,audio):\n",
    "        self.path = path\n",
    "        self.a = audio.Audio()\n",
    "        self.db = []\n",
    "    def add_to_db(self,note,to):\n",
    "        self.db.append([note,to])\n",
    "    def saveDBnp(self):\n",
    "        \"\"\"\n",
    "        Saves a db to directory dirt.\n",
    "\n",
    "        splt = \\ in windows\n",
    "             = / in mac\n",
    "        \"\"\"\n",
    "        it = 0\n",
    "        dirt = self.path\n",
    "        prevname = self.db[0][1]\n",
    "        for entr in self.db:\n",
    "            ray, name = entr[0],entr[1]\n",
    "            if name != prevname:\n",
    "                prevname = name\n",
    "                it = 0\n",
    "            direc = os.path.join(dirt , name)\n",
    "\n",
    "            if not os.path.exists(direc):\n",
    "                os.makedirs(direc)\n",
    "\n",
    "\n",
    "            direc = os.path.join(direc , \"note\" + str(it))\n",
    "\n",
    "            np.savez(direc,ray=ray)\n",
    "            it = it + 1\n",
    "    def loadDBnp(self):\n",
    "        \"\"\"\n",
    "        Loads a db from directory dirt.\n",
    "        Dirt must be formated like such:\n",
    "        Folders with names of the desired labels (ie: 'Daschel Cooper')\n",
    "        Within them .npz files storing arrays named 'ray'\n",
    "            (this naming and format is done automatically by saveDBnp)\n",
    "\n",
    "        splt = \\ in windows\n",
    "             = / in mac\n",
    "        \"\"\"\n",
    "        dirt = self.path\n",
    "        lstOfDirs = [x[0] for x in os.walk(dirt)][1:]\n",
    "        splt = os.sep\n",
    "        db = []\n",
    "\n",
    "        for rootDir in lstOfDirs:\n",
    "            print(rootDir)\n",
    "            fileSet = set()\n",
    "\n",
    "\n",
    "\n",
    "            for dir_, _, files in os.walk(rootDir):\n",
    "                for fileName in files:\n",
    "                    relDir = os.path.relpath(dir_, rootDir)\n",
    "                    relFile = os.path.join(rootDir, fileName)\n",
    "                    if not fileName.startswith('.'):\n",
    "                        fileSet.add(relFile)\n",
    "\n",
    "            for file in fileSet:\n",
    "                vector = np.load(file)['ray']\n",
    "                name = rootDir.split(splt)[1]\n",
    "                db.append( (vector , name) )\n",
    "\n",
    "        self.db = db"
   ]
  },
  {
   "cell_type": "code",
   "execution_count": 4,
   "metadata": {
    "collapsed": true
   },
   "outputs": [],
   "source": [
    "n = note(\"notes\",audio)"
   ]
  },
  {
   "cell_type": "code",
   "execution_count": 7,
   "metadata": {
    "collapsed": false
   },
   "outputs": [
    {
     "name": "stdout",
     "output_type": "stream",
     "text": [
      "notes\\Daschel\n"
     ]
    },
    {
     "ename": "NameError",
     "evalue": "name 'splt' is not defined",
     "output_type": "error",
     "traceback": [
      "\u001b[0;31m---------------------------------------------------------------------------\u001b[0m",
      "\u001b[0;31mNameError\u001b[0m                                 Traceback (most recent call last)",
      "\u001b[0;32m<ipython-input-7-393394baa85b>\u001b[0m in \u001b[0;36m<module>\u001b[0;34m()\u001b[0m\n\u001b[0;32m----> 1\u001b[0;31m \u001b[0mn\u001b[0m\u001b[1;33m.\u001b[0m\u001b[0mloadDBnp\u001b[0m\u001b[1;33m(\u001b[0m\u001b[1;33m)\u001b[0m\u001b[1;33m\u001b[0m\u001b[0m\n\u001b[0m",
      "\u001b[0;32m<ipython-input-3-e925cf0c323a>\u001b[0m in \u001b[0;36mloadDBnp\u001b[0;34m(self)\u001b[0m\n\u001b[1;32m     66\u001b[0m             \u001b[1;32mfor\u001b[0m \u001b[0mfile\u001b[0m \u001b[1;32min\u001b[0m \u001b[0mfileSet\u001b[0m\u001b[1;33m:\u001b[0m\u001b[1;33m\u001b[0m\u001b[0m\n\u001b[1;32m     67\u001b[0m                 \u001b[0mvector\u001b[0m \u001b[1;33m=\u001b[0m \u001b[0mnp\u001b[0m\u001b[1;33m.\u001b[0m\u001b[0mload\u001b[0m\u001b[1;33m(\u001b[0m\u001b[0mfile\u001b[0m\u001b[1;33m)\u001b[0m\u001b[1;33m[\u001b[0m\u001b[1;34m'ray'\u001b[0m\u001b[1;33m]\u001b[0m\u001b[1;33m\u001b[0m\u001b[0m\n\u001b[0;32m---> 68\u001b[0;31m                 \u001b[0mname\u001b[0m \u001b[1;33m=\u001b[0m \u001b[0mrootDir\u001b[0m\u001b[1;33m.\u001b[0m\u001b[0msplit\u001b[0m\u001b[1;33m(\u001b[0m\u001b[0msplt\u001b[0m\u001b[1;33m)\u001b[0m\u001b[1;33m[\u001b[0m\u001b[1;36m1\u001b[0m\u001b[1;33m]\u001b[0m\u001b[1;33m\u001b[0m\u001b[0m\n\u001b[0m\u001b[1;32m     69\u001b[0m                 \u001b[0mdb\u001b[0m\u001b[1;33m.\u001b[0m\u001b[0mappend\u001b[0m\u001b[1;33m(\u001b[0m \u001b[1;33m(\u001b[0m\u001b[0mvector\u001b[0m \u001b[1;33m,\u001b[0m \u001b[0mname\u001b[0m\u001b[1;33m)\u001b[0m \u001b[1;33m)\u001b[0m\u001b[1;33m\u001b[0m\u001b[0m\n\u001b[1;32m     70\u001b[0m \u001b[1;33m\u001b[0m\u001b[0m\n",
      "\u001b[0;31mNameError\u001b[0m: name 'splt' is not defined"
     ]
    }
   ],
   "source": [
    "n.loadDBnp()"
   ]
  },
  {
   "cell_type": "code",
   "execution_count": 6,
   "metadata": {
    "collapsed": false
   },
   "outputs": [
    {
     "data": {
      "text/plain": [
       "[]"
      ]
     },
     "execution_count": 6,
     "metadata": {},
     "output_type": "execute_result"
    }
   ],
   "source": [
    "n.db"
   ]
  },
  {
   "cell_type": "code",
   "execution_count": null,
   "metadata": {
    "collapsed": true
   },
   "outputs": [],
   "source": []
  }
 ],
 "metadata": {
  "kernelspec": {
   "display_name": "Python 3",
   "language": "python",
   "name": "python3"
  },
  "language_info": {
   "codemirror_mode": {
    "name": "ipython",
    "version": 3
   },
   "file_extension": ".py",
   "mimetype": "text/x-python",
   "name": "python",
   "nbconvert_exporter": "python",
   "pygments_lexer": "ipython3",
   "version": "3.6.0"
  }
 },
 "nbformat": 4,
 "nbformat_minor": 2
}
