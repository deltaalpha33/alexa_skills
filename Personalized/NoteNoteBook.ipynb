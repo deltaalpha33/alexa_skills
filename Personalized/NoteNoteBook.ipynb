{
 "cells": [
  {
   "cell_type": "code",
   "execution_count": 1,
   "metadata": {
    "collapsed": true
   },
   "outputs": [],
   "source": [
    "from audio_input import audio\n",
    "import numpy as np\n",
    "import os\n",
    "\n",
    "class Note:\n",
    "    def __init__(self,path,audio):\n",
    "        self.path = path\n",
    "        self.a = audio.Audio()\n",
    "        self.db = []\n",
    "    def add_to_db(self,note,to):\n",
    "        self.db.append([note,to])\n",
    "    def saveDBnp(self):\n",
    "        \"\"\"\n",
    "        Saves a db to directory dirt.\n",
    "\n",
    "        splt = \\ in windows\n",
    "             = / in mac\n",
    "        \"\"\"\n",
    "        it = 0\n",
    "        dirt = self.path\n",
    "        prevname = self.db[0][1]\n",
    "        for entr in self.db:\n",
    "            ray, name = entr[0],entr[1]\n",
    "            if name != prevname:\n",
    "                prevname = name\n",
    "                it = 0\n",
    "            direc = os.path.join(dirt , name)\n",
    "\n",
    "            if not os.path.exists(direc):\n",
    "                os.makedirs(direc)\n",
    "\n",
    "\n",
    "            direc = os.path.join(direc , \"note\" + str(it))\n",
    "\n",
    "            np.savez(direc,ray=ray)\n",
    "            it = it + 1\n",
    "    def loadDBnp(self):\n",
    "        \"\"\"\n",
    "        Loads a db from directory dirt.\n",
    "        Dirt must be formated like such:\n",
    "        Folders with names of the desired labels (ie: 'Daschel Cooper')\n",
    "        Within them .npz files storing arrays named 'ray'\n",
    "            (this naming and format is done automatically by saveDBnp)\n",
    "\n",
    "        splt = \\ in windows\n",
    "             = / in mac\n",
    "        \"\"\"\n",
    "        dirt = self.path\n",
    "        lstOfDirs = [x[0] for x in os.walk(dirt)][1:]\n",
    "        splt = os.sep\n",
    "        db = []\n",
    "\n",
    "        for rootDir in lstOfDirs:\n",
    "            print(rootDir)\n",
    "            fileSet = set()\n",
    "\n",
    "\n",
    "\n",
    "            for dir_, _, files in os.walk(rootDir):\n",
    "                for fileName in files:\n",
    "                    relDir = os.path.relpath(dir_, rootDir)\n",
    "                    relFile = os.path.join(rootDir, fileName)\n",
    "                    if not fileName.startswith('.'):\n",
    "                        fileSet.add(relFile)\n",
    "\n",
    "            for file in fileSet:\n",
    "                vector = np.load(file)['ray']\n",
    "                name = rootDir.split(splt)[1]\n",
    "                db.append( (vector , name) )\n",
    "\n",
    "        self.db = db\n",
    "    def add_note(self, time, name):\n",
    "        \"\"\"\n",
    "        record + store a note of length time for name\n",
    "        \"\"\"\n",
    "        note = self.a.read_mic(time)\n",
    "        self.db.append( [ note,name ] )\n",
    "        self.saveDBnp()\n",
    "    def read_notes(self, name):\n",
    "        killMe = []\n",
    "        for i,val in enumerate(self.db):\n",
    "            note, nameDB = val[0],val[1]\n",
    "            if nameDB == name:\n",
    "                self.a.play_audio(note)\n",
    "                killMe.append(i)\n",
    "        self.db = [i for j, i in enumerate(self.db) if j not in killMe\n",
    "                \n",
    "        "
   ]
  },
  {
   "cell_type": "code",
   "execution_count": 2,
   "metadata": {
    "collapsed": true
   },
   "outputs": [],
   "source": [
    "n = Note(\"notes\",audio)"
   ]
  },
  {
   "cell_type": "code",
   "execution_count": 3,
   "metadata": {
    "collapsed": false
   },
   "outputs": [
    {
     "name": "stdout",
     "output_type": "stream",
     "text": [
      "notes\\Daschel\n"
     ]
    }
   ],
   "source": [
    "n.loadDBnp()"
   ]
  },
  {
   "cell_type": "code",
   "execution_count": 7,
   "metadata": {
    "collapsed": false
   },
   "outputs": [
    {
     "data": {
      "text/plain": [
       "[]"
      ]
     },
     "execution_count": 7,
     "metadata": {},
     "output_type": "execute_result"
    }
   ],
   "source": [
    "n.db"
   ]
  },
  {
   "cell_type": "code",
   "execution_count": 5,
   "metadata": {
    "collapsed": true
   },
   "outputs": [],
   "source": [
    "n.add_note(10,\"Daschel\")"
   ]
  },
  {
   "cell_type": "code",
   "execution_count": 8,
   "metadata": {
    "collapsed": true
   },
   "outputs": [],
   "source": [
    "n.read_notes(\"Daschel\")"
   ]
  },
  {
   "cell_type": "code",
   "execution_count": 13,
   "metadata": {
    "collapsed": false
   },
   "outputs": [
    {
     "name": "stdout",
     "output_type": "stream",
     "text": [
      "1\n",
      "1\n",
      "2\n"
     ]
    }
   ],
   "source": [
    "class demo:\n",
    "    def __init__(self):\n",
    "        self.x  = 1\n",
    "    def add(self):\n",
    "        self.x += 1\n",
    "d = demo()\n",
    "print(d.x)\n",
    "def func():\n",
    "    d.add()\n",
    "print(d.x)\n",
    "func()\n",
    "print(d.x)"
   ]
  },
  {
   "cell_type": "code",
   "execution_count": null,
   "metadata": {
    "collapsed": true
   },
   "outputs": [],
   "source": []
  }
 ],
 "metadata": {
  "kernelspec": {
   "display_name": "Python 3",
   "language": "python",
   "name": "python3"
  },
  "language_info": {
   "codemirror_mode": {
    "name": "ipython",
    "version": 3
   },
   "file_extension": ".py",
   "mimetype": "text/x-python",
   "name": "python",
   "nbconvert_exporter": "python",
   "pygments_lexer": "ipython3",
   "version": "3.6.0"
  }
 },
 "nbformat": 4,
 "nbformat_minor": 2
}
